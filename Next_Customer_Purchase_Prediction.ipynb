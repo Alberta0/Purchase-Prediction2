{
  "nbformat": 4,
  "nbformat_minor": 0,
  "metadata": {
    "colab": {
      "provenance": [],
      "authorship_tag": "ABX9TyN8imcZR+HXZ2XEnHrPe0fx",
      "include_colab_link": true
    },
    "kernelspec": {
      "name": "python3",
      "display_name": "Python 3"
    },
    "language_info": {
      "name": "python"
    }
  },
  "cells": [
    {
      "cell_type": "markdown",
      "metadata": {
        "id": "view-in-github",
        "colab_type": "text"
      },
      "source": [
        "<a href=\"https://colab.research.google.com/github/Alberta0/Purchase-Prediction2/blob/main/Next_Customer_Purchase_Prediction.ipynb\" target=\"_parent\"><img src=\"https://colab.research.google.com/assets/colab-badge.svg\" alt=\"Open In Colab\"/></a>"
      ]
    },
    {
      "cell_type": "code",
      "execution_count": null,
      "metadata": {
        "id": "Rz7iAnafB-Hg"
      },
      "outputs": [],
      "source": [
        "%load_ext rpy2.ipython"
      ]
    },
    {
      "cell_type": "code",
      "source": [
        "%%R\n",
        "\n",
        "# Load in the libraries\n",
        "\n",
        "library(dplyr) # for data manipulation\n",
        "library(tidyr) # for data manipulation\n",
        "library(lubridate) # for date data type"
      ],
      "metadata": {
        "collapsed": true,
        "id": "91ASr1WPCEb1"
      },
      "execution_count": null,
      "outputs": []
    },
    {
      "cell_type": "code",
      "source": [
        "%%R\n",
        "# importing in the dataset and selecting target variables\n",
        "df <- read.csv('ecommerce_customer_data(1).csv') %>%\n",
        "  select(Customer.ID, Purchase.Date)\n",
        "df$Customer.ID <- as.character(df$Customer.ID)\n",
        "\n",
        "# view data\n",
        "head(df, n = 5)"
      ],
      "metadata": {
        "colab": {
          "base_uri": "https://localhost:8080/"
        },
        "id": "gF42h20lCcSv",
        "outputId": "03adff1f-8fd2-40b4-e495-d5d3a84bacda"
      },
      "execution_count": null,
      "outputs": [
        {
          "output_type": "stream",
          "name": "stdout",
          "text": [
            "  Customer.ID    Purchase.Date\n",
            "1       46251 08/09/2020 09:38\n",
            "2       46251 05/03/2022 12:56\n",
            "3       46251 23/05/2022 18:18\n",
            "4       46251 12/11/2020 13:13\n",
            "5       13593 27/11/2020 17:55\n"
          ]
        }
      ]
    },
    {
      "cell_type": "code",
      "source": [
        "%%R\n",
        "# pivoting the data for easy consumption, per unique customer\n",
        "# A slice of the entire dataset was used because the program was stretched thin on rows > 10,000\n",
        "pivot_df <- df %>%\n",
        "  slice(1:10000) %>%\n",
        "  mutate(row = row_number()) %>%\n",
        "  pivot_wider(names_from = Customer.ID,\n",
        "              values_from = Purchase.Date) %>%\n",
        "  select(-row)\n",
        "\n",
        "# creates a new dataframe to hold the transposed dataset\n",
        "newPiv <- as.data.frame(t(pivot_df))\n"
      ],
      "metadata": {
        "id": "lUkAby8QDpjX"
      },
      "execution_count": null,
      "outputs": []
    },
    {
      "cell_type": "markdown",
      "source": [
        "Created a function to move all values within the data to the left and NA's moved to the right for each row, this fucntion is used to handle NAs"
      ],
      "metadata": {
        "id": "Pmf2YbxWQoT_"
      }
    },
    {
      "cell_type": "code",
      "source": [
        "%%R\n",
        "collapse_NAs <- function(row) {\n",
        "  non_na_values <- row[!is.na(row)]\n",
        "  na_values <- rep(NA, length(row) - length(non_na_values))\n",
        "  return(c(non_na_values, na_values))\n",
        "}\n",
        "\n",
        "# Apply function to sort NAs\n",
        "newPiv2 <- as.data.frame(t(apply(newPiv, 1, collapse_NAs)))\n",
        "\n",
        "# Select only columns with values\n",
        "newPiv2 <- newPiv2 %>%\n",
        "  select(1:14)\n",
        "\n",
        "# view data\n",
        "head(newPiv2, n = 5)"
      ],
      "metadata": {
        "colab": {
          "base_uri": "https://localhost:8080/"
        },
        "id": "wEO8gjykD0Pm",
        "outputId": "e0ac2b90-edfb-4bef-e035-52313d323aed"
      },
      "execution_count": null,
      "outputs": [
        {
          "output_type": "stream",
          "name": "stdout",
          "text": [
            "                    V1               V2               V3               V4\n",
            "46251 08/09/2020 09:38 05/03/2022 12:56 23/05/2022 18:18 12/11/2020 13:13\n",
            "13593 27/11/2020 17:55 07/03/2023 14:17 15/04/2023 03:02 27/03/2021 21:23\n",
            "28805 13/09/2023 04:24 31/03/2021 09:50 18/01/2021 22:42 07/01/2020 12:57\n",
            "28961 25/04/2021 23:55 13/01/2020 09:57 18/06/2023 21:34 10/09/2021 00:39\n",
            "12163 18/12/2021 17:49 20/06/2020 05:56 08/07/2023 13:36 01/07/2023 12:36\n",
            "                    V5               V6               V7               V8\n",
            "46251             <NA>             <NA>             <NA>             <NA>\n",
            "13593 05/05/2020 20:14             <NA>             <NA>             <NA>\n",
            "28805 12/02/2021 20:33 02/07/2020 02:54             <NA>             <NA>\n",
            "28961 01/06/2023 19:07             <NA>             <NA>             <NA>\n",
            "12163 16/11/2022 08:56 07/04/2020 04:24 28/11/2020 16:48 21/08/2020 09:23\n",
            "                    V9  V10  V11  V12  V13  V14\n",
            "46251             <NA> <NA> <NA> <NA> <NA> <NA>\n",
            "13593             <NA> <NA> <NA> <NA> <NA> <NA>\n",
            "28805             <NA> <NA> <NA> <NA> <NA> <NA>\n",
            "28961             <NA> <NA> <NA> <NA> <NA> <NA>\n",
            "12163 24/04/2023 23:55 <NA> <NA> <NA> <NA> <NA>\n"
          ]
        }
      ]
    },
    {
      "cell_type": "code",
      "source": [
        "%%R\n",
        "# Convert dates data in to date data types, then sort dates in sequential timeline\n",
        "# Convert all columns to Date type\n",
        "newPiv4 <- newPiv2 %>% mutate(across(everything(), ~ as.Date(., format = \"%d/%m/%Y %H:%S\")))\n",
        "\n",
        "# Function to sort dates in each row and place them in the correct order\n",
        "sort_dates_in_row <- function(row) {\n",
        "  sorted_dates <- sort(na.omit(row))\n",
        "  sorted_dates <- c(sorted_dates, rep(NA, length(row) - length(sorted_dates)))\n",
        "  return(sorted_dates)\n",
        "}\n",
        "\n",
        "# Apply the function to each row of the data frame and save in new dataframe\n",
        "df_sorted <- t(apply(newPiv4, 1, sort_dates_in_row))\n",
        "df_sorted <- as.data.frame(df_sorted)\n",
        "\n",
        "# view dataframe\n",
        "head(df_sorted, n = 5)"
      ],
      "metadata": {
        "colab": {
          "base_uri": "https://localhost:8080/"
        },
        "id": "t5pR95plD9MK",
        "outputId": "ccc1dd4e-112d-433f-f2ca-89a7ca792b3b"
      },
      "execution_count": null,
      "outputs": [
        {
          "output_type": "stream",
          "name": "stdout",
          "text": [
            "              V1         V2         V3         V4         V5         V6\n",
            "46251 2020-09-08 2020-11-12 2022-03-05 2022-05-23       <NA>       <NA>\n",
            "13593 2020-05-05 2020-11-27 2021-03-27 2023-03-07 2023-04-15       <NA>\n",
            "28805 2020-01-07 2020-07-02 2021-01-18 2021-02-12 2021-03-31 2023-09-13\n",
            "28961 2020-01-13 2021-04-25 2021-09-10 2023-06-01 2023-06-18       <NA>\n",
            "12163 2020-04-07 2020-06-20 2020-08-21 2020-11-28 2021-12-18 2022-11-16\n",
            "              V7         V8         V9  V10  V11  V12  V13  V14\n",
            "46251       <NA>       <NA>       <NA> <NA> <NA> <NA> <NA> <NA>\n",
            "13593       <NA>       <NA>       <NA> <NA> <NA> <NA> <NA> <NA>\n",
            "28805       <NA>       <NA>       <NA> <NA> <NA> <NA> <NA> <NA>\n",
            "28961       <NA>       <NA>       <NA> <NA> <NA> <NA> <NA> <NA>\n",
            "12163 2023-04-24 2023-07-01 2023-07-08 <NA> <NA> <NA> <NA> <NA>\n"
          ]
        }
      ]
    },
    {
      "cell_type": "code",
      "source": [
        "%%R\n",
        "# Ensuring dates are in date data type across the dataframe\n",
        "newPiv5 <- df_sorted %>% mutate(across(everything(), ~ as.Date(., format = \"%Y-%m-%d\")))\n",
        "\n",
        "# view dataframe\n",
        "head(newPiv5, n = 5)"
      ],
      "metadata": {
        "colab": {
          "base_uri": "https://localhost:8080/"
        },
        "id": "bUbnW1EGEH4n",
        "outputId": "3cb1d1bc-a7f7-4438-904f-5f98e2805e3c"
      },
      "execution_count": null,
      "outputs": [
        {
          "output_type": "stream",
          "name": "stdout",
          "text": [
            "              V1         V2         V3         V4         V5         V6\n",
            "46251 2020-09-08 2020-11-12 2022-03-05 2022-05-23       <NA>       <NA>\n",
            "13593 2020-05-05 2020-11-27 2021-03-27 2023-03-07 2023-04-15       <NA>\n",
            "28805 2020-01-07 2020-07-02 2021-01-18 2021-02-12 2021-03-31 2023-09-13\n",
            "28961 2020-01-13 2021-04-25 2021-09-10 2023-06-01 2023-06-18       <NA>\n",
            "12163 2020-04-07 2020-06-20 2020-08-21 2020-11-28 2021-12-18 2022-11-16\n",
            "              V7         V8         V9  V10  V11  V12  V13  V14\n",
            "46251       <NA>       <NA>       <NA> <NA> <NA> <NA> <NA> <NA>\n",
            "13593       <NA>       <NA>       <NA> <NA> <NA> <NA> <NA> <NA>\n",
            "28805       <NA>       <NA>       <NA> <NA> <NA> <NA> <NA> <NA>\n",
            "28961       <NA>       <NA>       <NA> <NA> <NA> <NA> <NA> <NA>\n",
            "12163 2023-04-24 2023-07-01 2023-07-08 <NA> <NA> <NA> <NA> <NA>\n"
          ]
        }
      ]
    },
    {
      "cell_type": "markdown",
      "source": [
        "The next step will calculate the difference in dates for each row, per customer, to create differences in number of days and sort them into rows."
      ],
      "metadata": {
        "id": "99fBhhI4QRB5"
      }
    },
    {
      "cell_type": "code",
      "source": [
        "%%R\n",
        "compute_diffs <- function(row) {\n",
        "  dates <- as.Date(row, origin = \"1970-01-01\")\n",
        "  diffs <- diff(dates)\n",
        "  return(diffs)\n",
        "}\n",
        "\n",
        "# Apply the function row-wise and create a new data frame\n",
        "df_diffs <- t(apply(newPiv5 %>% select(V1:V14), 1, compute_diffs))\n",
        "df_diffs <- as.data.frame(df_diffs)\n",
        "\n",
        "# Include column to serve as unique identifier\n",
        "df_diffs <- df_diffs %>%\n",
        "  mutate(ID = rownames(df_diffs)) %>%\n",
        "  select(ID, everything())\n",
        "\n",
        "# Keeping dataframe in days\n",
        "df_diffs$ID <- as.numeric(df_diffs$ID)\n",
        "\n",
        "# view dataframe\n",
        "head(df_diffs, n = 5)"
      ],
      "metadata": {
        "colab": {
          "base_uri": "https://localhost:8080/"
        },
        "id": "9shA7IkbEPWm",
        "outputId": "8c382195-1d16-489d-cef9-7afc6918ed2d"
      },
      "execution_count": null,
      "outputs": [
        {
          "output_type": "stream",
          "name": "stdout",
          "text": [
            "         ID  V2  V3  V4  V5  V6  V7 V8 V9 V10 V11 V12 V13 V14\n",
            "46251 46251  65 478  79  NA  NA  NA NA NA  NA  NA  NA  NA  NA\n",
            "13593 13593 206 120 710  39  NA  NA NA NA  NA  NA  NA  NA  NA\n",
            "28805 28805 177 200  25  47 896  NA NA NA  NA  NA  NA  NA  NA\n",
            "28961 28961 468 138 629  17  NA  NA NA NA  NA  NA  NA  NA  NA\n",
            "12163 12163  74  62  99 385 333 159 68  7  NA  NA  NA  NA  NA\n"
          ]
        }
      ]
    },
    {
      "cell_type": "markdown",
      "source": [
        "Created a function filters through the dataframe, selecting the customer ID, then calculates the mean/average for all the days between the customer's purchase. Using Moving Average, it predicts the next number of days to the next purchase"
      ],
      "metadata": {
        "id": "Qce8XP2GP2Qf"
      }
    },
    {
      "cell_type": "code",
      "source": [
        "%%R\n",
        "\n",
        "NextPurchase <- function(IDFilter) {\n",
        "  # filter customer ID\n",
        "  filteredID <- df_diffs %>% filter(ID == IDFilter) %>%\n",
        "    # remove NAs\n",
        "    select(where(~ !any(is.na(.))))\n",
        "  # Stating target in number of days\n",
        "  AssumedNext <- 120\n",
        "  # calculating average\n",
        "  average <- mean(as.numeric(filteredID[,2:ncol(filteredID)]), na.rm = T)\n",
        "  # identifying last purchase day\n",
        "  lastValue <- filteredID[, ncol(filteredID)]\n",
        "  # using moving average that is adding average to last day to predict next purchase in days\n",
        "  pred <- round((average + lastValue), digits = 0)\n",
        "  # probability of next purchase using the calculated next purchase and target days\n",
        "  prob <- round(((AssumedNext/pred) * 100), digits = 2)\n",
        "  prob <- ifelse(prob > 100, 100, prob)\n",
        "  print(paste('Customer ID -', IDFilter, 'next purchase is approximately in', pred, 'days'))\n",
        "  print(paste0('Customer ID - ', IDFilter, ' has a ', prob,'%', ' chance of buying in ', AssumedNext, ' days'))\n",
        "}"
      ],
      "metadata": {
        "id": "R9ui-_w7EWz9"
      },
      "execution_count": null,
      "outputs": []
    },
    {
      "cell_type": "code",
      "source": [
        "%%R\n",
        "# using desired Customer ID\n",
        "NextPurchase(25638)"
      ],
      "metadata": {
        "colab": {
          "base_uri": "https://localhost:8080/"
        },
        "id": "aLQmTUSvEZ_C",
        "outputId": "9d51c608-615c-4def-e0e8-ef98e9bab02b"
      },
      "execution_count": null,
      "outputs": [
        {
          "output_type": "stream",
          "name": "stdout",
          "text": [
            "[1] \"Customer ID - 25638 next purchase is approximately in 264 days\"\n",
            "[1] \"Customer ID - 25638 has a 45.45% chance of buying in 120 days\"\n"
          ]
        }
      ]
    }
  ]
}